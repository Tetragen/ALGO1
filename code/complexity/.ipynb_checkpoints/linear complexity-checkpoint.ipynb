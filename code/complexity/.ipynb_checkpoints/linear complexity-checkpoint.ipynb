{
 "cells": [
  {
   "cell_type": "code",
   "execution_count": 2,
   "metadata": {},
   "outputs": [
    {
     "name": "stdout",
     "output_type": "stream",
     "text": [
      "1 multiplications\n",
      "2000001 multiplications\n",
      "4000001 multiplications\n",
      "6000001 multiplications\n",
      "8000001 multiplications\n",
      "10000001 multiplications\n"
     ]
    }
   ],
   "source": [
    "\"\"\"\n",
    "    measure the complexity of a simple loop\n",
    "\"\"\"\n",
    "%matplotlib inline\n",
    "import matplotlib.pyplot as plt\n",
    "from time import time\n",
    "import pylab as pl\n",
    "from IPython import display\n",
    "\n",
    "min_size = 1\n",
    "max_size = 10**7\n",
    "step = int(max_size / 5)\n",
    "sizes = range(min_size, max_size + 2, step)\n",
    "\n",
    "times = []\n",
    "\n",
    "for size in sizes:\n",
    "    print(str(size) + ' multiplications')\n",
    "    t0 = time()\n",
    "    for j in range(size):\n",
    "        x = 2 * 3\n",
    "    times.append(time() - t0)\n",
    "\n",
    "# use the logarithm\n",
    "# log_sizes = [math.log(size) for size in sizes]\n",
    "\n",
    "title = 'Computation time of a sequence of multiplications'\n",
    "filename = 'linear.pdf'\n",
    "# pl.plot(sizes, times, 'o')\n",
    "# pl.xlabel('number of multiplications')\n",
    "# pl.ylabel('computation time (seconds)')\n",
    "# pl.title(title)"
   ]
  }
 ],
 "metadata": {
  "kernelspec": {
   "display_name": "Python 3",
   "language": "python",
   "name": "python3"
  },
  "language_info": {
   "codemirror_mode": {
    "name": "ipython",
    "version": 3
   },
   "file_extension": ".py",
   "mimetype": "text/x-python",
   "name": "python",
   "nbconvert_exporter": "python",
   "pygments_lexer": "ipython3",
   "version": "3.7.6"
  }
 },
 "nbformat": 4,
 "nbformat_minor": 4
}
